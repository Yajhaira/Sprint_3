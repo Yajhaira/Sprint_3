{
 "cells": [
  {
   "cell_type": "code",
   "execution_count": 43,
   "id": "1d54de30",
   "metadata": {},
   "outputs": [
    {
     "data": {
      "application/vnd.jupyter.widget-view+json": {
       "model_id": "7224c511d95243ca9ba48ffb167bdb51",
       "version_major": 2,
       "version_minor": 0
      },
      "text/plain": [
       "BoundedIntText(value=0, description='Valor K:', max=20)"
      ]
     },
     "metadata": {},
     "output_type": "display_data"
    },
    {
     "data": {
      "application/vnd.jupyter.widget-view+json": {
       "model_id": "ad544a3a26344d4989572941969132f8",
       "version_major": 2,
       "version_minor": 0
      },
      "text/plain": [
       "Dropdown(description='Nombre:', options=('Tatiana Campos', 'Juan Agredo', 'Andrea Torrente', 'Yajhaira Naranjo…"
      ]
     },
     "metadata": {},
     "output_type": "display_data"
    }
   ],
   "source": [
    "import pandas as pd\n",
    "\n",
    "df = pd.read_csv('datos.csv')\n",
    "\n",
    "import ipywidgets as widgets\n",
    "\n",
    "K = 0\n",
    "\n",
    "numeric_input = widgets.BoundedIntText(\n",
    "    value=0,\n",
    "    min=0,\n",
    "    max=df.shape[0]-1,\n",
    "    step=1,\n",
    "    description='Valor K:'\n",
    ")\n",
    "\n",
    "def on_numeric_input_change(change):\n",
    "    global K\n",
    "    K = change.new\n",
    "    \n",
    "numeric_input.observe(on_numeric_input_change, names='value')\n",
    "\n",
    "\n",
    "dropdown_names = widgets.Dropdown(\n",
    "    options=df.nombre,\n",
    "    description='Nombre:',\n",
    "    disabled=False,\n",
    ")\n",
    "\n",
    "P = 0\n",
    "\n",
    "\n",
    "def on_dropdown_change(change):\n",
    "    global P\n",
    "    P = change.new\n",
    "    \n",
    "\n",
    "dropdown_names.observe(on_dropdown_change, names='value')\n",
    "\n",
    "display(numeric_input)\n",
    "display(dropdown_names)\n"
   ]
  },
  {
   "cell_type": "code",
   "execution_count": 47,
   "id": "1aa66c47",
   "metadata": {},
   "outputs": [
    {
     "name": "stdout",
     "output_type": "stream",
     "text": [
      "Persona seleccionada: Valeria Jimenez \n",
      "1 : Isabella Pinzon  - distancia: 14.491376746189438\n",
      "2 : Christian Aparicio - distancia: 14.966629547095765\n",
      "3 : Tatiana Campos - distancia: 15.264337522473747\n",
      "4 : Andres Poveda - distancia: 15.652475842498529\n",
      "5 : Sebastian Mosquera - distancia: 16.0312195418814\n",
      "6 : NIcolas Orozco - distancia: 16.3707055437449\n",
      "7 : Christian Castro - distancia: 16.852299546352718\n",
      "8 : Juan Bueno - distancia: 17.11724276862369\n",
      "9 : Andres Narvaez - distancia: 17.146428199482248\n",
      "10 : Juan Agredo - distancia: 17.349351572897472\n",
      "11 : Alejandro Medina - distancia: 17.378147196982766\n",
      "12 : Juan Andres Lopez  - distancia: 17.944358444926362\n",
      "13 : Luisa Tapiero - distancia: 18.24828759089466\n",
      "14 : Cristian guevara - distancia: 18.76166303929372\n",
      "15 : Andres Camilo Gomez - distancia: 18.894443627691185\n",
      "16 : Juan Rodriguez - distancia: 19.544820285692065\n",
      "17 : Juan Munera - distancia: 20.42057785666214\n",
      "18 : Nicolas Penagos - distancia: 20.92844953645635\n"
     ]
    }
   ],
   "source": [
    "import numpy as np\n",
    "from sklearn.neighbors import NearestNeighbors\n",
    "import pandas as pd\n",
    "\n",
    "df = pd.read_csv('datos.csv')\n",
    "\n",
    "\n",
    "indexP = dropdown_names.index\n",
    "\n",
    "X = df.drop('nombre', axis=1).to_numpy()\n",
    "y = df['nombre']\n",
    "\n",
    "knn = NearestNeighbors(n_neighbors= K, algorithm='auto')\n",
    "knn.fit(X)\n",
    "\n",
    "distancias, indices = knn.kneighbors(X)\n",
    "distancias = distancias[indexP]\n",
    "indices = indices[indexP]\n",
    "\n",
    "for i in range(0, len(distancias.flatten())):\n",
    "    if i == 0:\n",
    "        print('Persona seleccionada:', P)\n",
    "    else:\n",
    "        print(i, ':', y[indices.flatten()[i]], '- distancia:', distancias.flatten()[i])\n"
   ]
  },
  {
   "cell_type": "code",
   "execution_count": null,
   "id": "5fe93138",
   "metadata": {},
   "outputs": [],
   "source": []
  },
  {
   "cell_type": "code",
   "execution_count": null,
   "id": "be306732",
   "metadata": {},
   "outputs": [],
   "source": []
  }
 ],
 "metadata": {
  "kernelspec": {
   "display_name": "Python 3 (ipykernel)",
   "language": "python",
   "name": "python3"
  },
  "language_info": {
   "codemirror_mode": {
    "name": "ipython",
    "version": 3
   },
   "file_extension": ".py",
   "mimetype": "text/x-python",
   "name": "python",
   "nbconvert_exporter": "python",
   "pygments_lexer": "ipython3",
   "version": "3.9.13"
  }
 },
 "nbformat": 4,
 "nbformat_minor": 5
}
